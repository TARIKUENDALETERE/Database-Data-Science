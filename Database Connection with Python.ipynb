{
 "cells": [
  {
   "cell_type": "code",
   "execution_count": 2,
   "id": "beb630e8-98d2-45c4-b980-2c5fd2fdc25f",
   "metadata": {
    "tags": []
   },
   "outputs": [],
   "source": [
    "import pandas as pd\n",
    "import mysql.connector as sql"
   ]
  },
  {
   "cell_type": "code",
   "execution_count": 4,
   "id": "2046bdbc-2d1d-4b26-b050-befaf3cd69cd",
   "metadata": {
    "tags": []
   },
   "outputs": [],
   "source": [
    "con=sql.connect(host='localhost', user='root', password='',database='hms')\n"
   ]
  },
  {
   "cell_type": "code",
   "execution_count": 6,
   "id": "2504f585-ee81-4b18-9a3e-cb839b17c83a",
   "metadata": {
    "tags": []
   },
   "outputs": [],
   "source": [
    "db_cursor=con.cursor()"
   ]
  },
  {
   "cell_type": "code",
   "execution_count": 16,
   "id": "fc267f42-a264-448b-b34f-1c5f071f5707",
   "metadata": {
    "tags": []
   },
   "outputs": [],
   "source": [
    "db_cursor.execute(\"select * from Region\")"
   ]
  },
  {
   "cell_type": "code",
   "execution_count": 17,
   "id": "d4bf0ecc-4534-42d5-a6f1-2aaf55eab766",
   "metadata": {
    "tags": []
   },
   "outputs": [],
   "source": [
    "all_rows=db_cursor.fetchall()"
   ]
  },
  {
   "cell_type": "code",
   "execution_count": 18,
   "id": "71b370f1-67c4-431f-b8e9-d6c3a88f2f8f",
   "metadata": {
    "tags": []
   },
   "outputs": [],
   "source": [
    "df=pd.DataFrame(all_rows)"
   ]
  },
  {
   "cell_type": "code",
   "execution_count": 21,
   "id": "75b1df58-09e4-4f9c-b6c5-0eec17cce369",
   "metadata": {
    "tags": []
   },
   "outputs": [
    {
     "data": {
      "text/html": [
       "<div>\n",
       "<style scoped>\n",
       "    .dataframe tbody tr th:only-of-type {\n",
       "        vertical-align: middle;\n",
       "    }\n",
       "\n",
       "    .dataframe tbody tr th {\n",
       "        vertical-align: top;\n",
       "    }\n",
       "\n",
       "    .dataframe thead th {\n",
       "        text-align: right;\n",
       "    }\n",
       "</style>\n",
       "<table border=\"1\" class=\"dataframe\">\n",
       "  <thead>\n",
       "    <tr style=\"text-align: right;\">\n",
       "      <th></th>\n",
       "      <th>0</th>\n",
       "      <th>1</th>\n",
       "      <th>2</th>\n",
       "      <th>3</th>\n",
       "      <th>4</th>\n",
       "      <th>5</th>\n",
       "      <th>6</th>\n",
       "    </tr>\n",
       "  </thead>\n",
       "  <tbody>\n",
       "    <tr>\n",
       "      <th>0</th>\n",
       "      <td>1</td>\n",
       "      <td>Oromia</td>\n",
       "      <td>Addis Ababa</td>\n",
       "      <td>353,690 km²</td>\n",
       "      <td>2024-04-09</td>\n",
       "      <td></td>\n",
       "      <td>1</td>\n",
       "    </tr>\n",
       "    <tr>\n",
       "      <th>1</th>\n",
       "      <td>2</td>\n",
       "      <td>Amhara</td>\n",
       "      <td>Bahir Dar</td>\n",
       "      <td>154,709 km²</td>\n",
       "      <td>2024-04-09</td>\n",
       "      <td></td>\n",
       "      <td>1</td>\n",
       "    </tr>\n",
       "    <tr>\n",
       "      <th>2</th>\n",
       "      <td>3</td>\n",
       "      <td>Somale</td>\n",
       "      <td>Jigjiga</td>\n",
       "      <td>1.2 m2</td>\n",
       "      <td>2024-04-09</td>\n",
       "      <td></td>\n",
       "      <td>1</td>\n",
       "    </tr>\n",
       "    <tr>\n",
       "      <th>3</th>\n",
       "      <td>4</td>\n",
       "      <td>Afar</td>\n",
       "      <td>Samara</td>\n",
       "      <td>72,053 km²</td>\n",
       "      <td>2024-04-10</td>\n",
       "      <td>1</td>\n",
       "      <td>1</td>\n",
       "    </tr>\n",
       "    <tr>\n",
       "      <th>4</th>\n",
       "      <td>5</td>\n",
       "      <td>Tigray</td>\n",
       "      <td>Mekele</td>\n",
       "      <td>50,079 km²</td>\n",
       "      <td>2024-04-11</td>\n",
       "      <td>1</td>\n",
       "      <td>1</td>\n",
       "    </tr>\n",
       "  </tbody>\n",
       "</table>\n",
       "</div>"
      ],
      "text/plain": [
       "   0       1            2            3           4  5  6\n",
       "0  1  Oromia  Addis Ababa  353,690 km²  2024-04-09     1\n",
       "1  2  Amhara    Bahir Dar  154,709 km²  2024-04-09     1\n",
       "2  3  Somale      Jigjiga       1.2 m2  2024-04-09     1\n",
       "3  4    Afar       Samara   72,053 km²  2024-04-10  1  1\n",
       "4  5  Tigray       Mekele   50,079 km²  2024-04-11  1  1"
      ]
     },
     "execution_count": 21,
     "metadata": {},
     "output_type": "execute_result"
    }
   ],
   "source": [
    "df.head(10)"
   ]
  },
  {
   "cell_type": "code",
   "execution_count": 24,
   "id": "6ce016ea-6c85-40a1-a023-08d7ccf0198e",
   "metadata": {
    "tags": []
   },
   "outputs": [
    {
     "data": {
      "text/html": [
       "<div>\n",
       "<style scoped>\n",
       "    .dataframe tbody tr th:only-of-type {\n",
       "        vertical-align: middle;\n",
       "    }\n",
       "\n",
       "    .dataframe tbody tr th {\n",
       "        vertical-align: top;\n",
       "    }\n",
       "\n",
       "    .dataframe thead th {\n",
       "        text-align: right;\n",
       "    }\n",
       "</style>\n",
       "<table border=\"1\" class=\"dataframe\">\n",
       "  <thead>\n",
       "    <tr style=\"text-align: right;\">\n",
       "      <th></th>\n",
       "      <th>0</th>\n",
       "      <th>1</th>\n",
       "      <th>2</th>\n",
       "      <th>3</th>\n",
       "      <th>4</th>\n",
       "      <th>5</th>\n",
       "      <th>6</th>\n",
       "    </tr>\n",
       "  </thead>\n",
       "  <tbody>\n",
       "    <tr>\n",
       "      <th>0</th>\n",
       "      <td>1</td>\n",
       "      <td>Oromia</td>\n",
       "      <td>Addis Ababa</td>\n",
       "      <td>353,690 km²</td>\n",
       "      <td>2024-04-09</td>\n",
       "      <td></td>\n",
       "      <td>1</td>\n",
       "    </tr>\n",
       "    <tr>\n",
       "      <th>1</th>\n",
       "      <td>2</td>\n",
       "      <td>Amhara</td>\n",
       "      <td>Bahir Dar</td>\n",
       "      <td>154,709 km²</td>\n",
       "      <td>2024-04-09</td>\n",
       "      <td></td>\n",
       "      <td>1</td>\n",
       "    </tr>\n",
       "    <tr>\n",
       "      <th>2</th>\n",
       "      <td>3</td>\n",
       "      <td>Somale</td>\n",
       "      <td>Jigjiga</td>\n",
       "      <td>1.2 m2</td>\n",
       "      <td>2024-04-09</td>\n",
       "      <td></td>\n",
       "      <td>1</td>\n",
       "    </tr>\n",
       "    <tr>\n",
       "      <th>3</th>\n",
       "      <td>4</td>\n",
       "      <td>Afar</td>\n",
       "      <td>Samara</td>\n",
       "      <td>72,053 km²</td>\n",
       "      <td>2024-04-10</td>\n",
       "      <td>1</td>\n",
       "      <td>1</td>\n",
       "    </tr>\n",
       "    <tr>\n",
       "      <th>4</th>\n",
       "      <td>5</td>\n",
       "      <td>Tigray</td>\n",
       "      <td>Mekele</td>\n",
       "      <td>50,079 km²</td>\n",
       "      <td>2024-04-11</td>\n",
       "      <td>1</td>\n",
       "      <td>1</td>\n",
       "    </tr>\n",
       "  </tbody>\n",
       "</table>\n",
       "</div>"
      ],
      "text/plain": [
       "   0       1            2            3           4  5  6\n",
       "0  1  Oromia  Addis Ababa  353,690 km²  2024-04-09     1\n",
       "1  2  Amhara    Bahir Dar  154,709 km²  2024-04-09     1\n",
       "2  3  Somale      Jigjiga       1.2 m2  2024-04-09     1\n",
       "3  4    Afar       Samara   72,053 km²  2024-04-10  1  1\n",
       "4  5  Tigray       Mekele   50,079 km²  2024-04-11  1  1"
      ]
     },
     "execution_count": 24,
     "metadata": {},
     "output_type": "execute_result"
    }
   ],
   "source": [
    "df.head()"
   ]
  },
  {
   "cell_type": "code",
   "execution_count": 25,
   "id": "f9d4a2e0-a8e3-4dfc-b7fa-efc150d1c446",
   "metadata": {
    "tags": []
   },
   "outputs": [
    {
     "data": {
      "text/plain": [
       "<bound method NDFrame.describe of    0       1            2            3           4  5  6\n",
       "0  1  Oromia  Addis Ababa  353,690 km²  2024-04-09     1\n",
       "1  2  Amhara    Bahir Dar  154,709 km²  2024-04-09     1\n",
       "2  3  Somale      Jigjiga       1.2 m2  2024-04-09     1\n",
       "3  4    Afar       Samara   72,053 km²  2024-04-10  1  1\n",
       "4  5  Tigray       Mekele   50,079 km²  2024-04-11  1  1>"
      ]
     },
     "execution_count": 25,
     "metadata": {},
     "output_type": "execute_result"
    }
   ],
   "source": [
    "df.describe()"
   ]
  },
  {
   "cell_type": "code",
   "execution_count": 26,
   "id": "b3b273f8-6347-4996-a91f-b8d2060c4c03",
   "metadata": {
    "tags": []
   },
   "outputs": [
    {
     "data": {
      "text/html": [
       "<div>\n",
       "<style scoped>\n",
       "    .dataframe tbody tr th:only-of-type {\n",
       "        vertical-align: middle;\n",
       "    }\n",
       "\n",
       "    .dataframe tbody tr th {\n",
       "        vertical-align: top;\n",
       "    }\n",
       "\n",
       "    .dataframe thead th {\n",
       "        text-align: right;\n",
       "    }\n",
       "</style>\n",
       "<table border=\"1\" class=\"dataframe\">\n",
       "  <thead>\n",
       "    <tr style=\"text-align: right;\">\n",
       "      <th></th>\n",
       "      <th>0</th>\n",
       "      <th>6</th>\n",
       "    </tr>\n",
       "  </thead>\n",
       "  <tbody>\n",
       "    <tr>\n",
       "      <th>count</th>\n",
       "      <td>5.000000</td>\n",
       "      <td>5.0</td>\n",
       "    </tr>\n",
       "    <tr>\n",
       "      <th>mean</th>\n",
       "      <td>3.000000</td>\n",
       "      <td>1.0</td>\n",
       "    </tr>\n",
       "    <tr>\n",
       "      <th>std</th>\n",
       "      <td>1.581139</td>\n",
       "      <td>0.0</td>\n",
       "    </tr>\n",
       "    <tr>\n",
       "      <th>min</th>\n",
       "      <td>1.000000</td>\n",
       "      <td>1.0</td>\n",
       "    </tr>\n",
       "    <tr>\n",
       "      <th>25%</th>\n",
       "      <td>2.000000</td>\n",
       "      <td>1.0</td>\n",
       "    </tr>\n",
       "    <tr>\n",
       "      <th>50%</th>\n",
       "      <td>3.000000</td>\n",
       "      <td>1.0</td>\n",
       "    </tr>\n",
       "    <tr>\n",
       "      <th>75%</th>\n",
       "      <td>4.000000</td>\n",
       "      <td>1.0</td>\n",
       "    </tr>\n",
       "    <tr>\n",
       "      <th>max</th>\n",
       "      <td>5.000000</td>\n",
       "      <td>1.0</td>\n",
       "    </tr>\n",
       "  </tbody>\n",
       "</table>\n",
       "</div>"
      ],
      "text/plain": [
       "              0    6\n",
       "count  5.000000  5.0\n",
       "mean   3.000000  1.0\n",
       "std    1.581139  0.0\n",
       "min    1.000000  1.0\n",
       "25%    2.000000  1.0\n",
       "50%    3.000000  1.0\n",
       "75%    4.000000  1.0\n",
       "max    5.000000  1.0"
      ]
     },
     "execution_count": 26,
     "metadata": {},
     "output_type": "execute_result"
    }
   ],
   "source": [
    "df.describe()"
   ]
  },
  {
   "cell_type": "code",
   "execution_count": 27,
   "id": "3791dc59-14c1-4ca5-b126-74b765d0bf3c",
   "metadata": {
    "tags": []
   },
   "outputs": [
    {
     "name": "stdout",
     "output_type": "stream",
     "text": [
      "<class 'pandas.core.frame.DataFrame'>\n",
      "RangeIndex: 5 entries, 0 to 4\n",
      "Data columns (total 7 columns):\n",
      " #   Column  Non-Null Count  Dtype \n",
      "---  ------  --------------  ----- \n",
      " 0   0       5 non-null      int64 \n",
      " 1   1       5 non-null      object\n",
      " 2   2       5 non-null      object\n",
      " 3   3       5 non-null      object\n",
      " 4   4       5 non-null      object\n",
      " 5   5       5 non-null      object\n",
      " 6   6       5 non-null      int64 \n",
      "dtypes: int64(2), object(5)\n",
      "memory usage: 408.0+ bytes\n"
     ]
    }
   ],
   "source": [
    "df.info()"
   ]
  },
  {
   "cell_type": "code",
   "execution_count": 28,
   "id": "6bc10765-1f12-4398-a994-e4e61339d9b4",
   "metadata": {
    "tags": []
   },
   "outputs": [
    {
     "data": {
      "text/html": [
       "<div>\n",
       "<style scoped>\n",
       "    .dataframe tbody tr th:only-of-type {\n",
       "        vertical-align: middle;\n",
       "    }\n",
       "\n",
       "    .dataframe tbody tr th {\n",
       "        vertical-align: top;\n",
       "    }\n",
       "\n",
       "    .dataframe thead th {\n",
       "        text-align: right;\n",
       "    }\n",
       "</style>\n",
       "<table border=\"1\" class=\"dataframe\">\n",
       "  <thead>\n",
       "    <tr style=\"text-align: right;\">\n",
       "      <th></th>\n",
       "      <th>0</th>\n",
       "      <th>1</th>\n",
       "      <th>2</th>\n",
       "      <th>3</th>\n",
       "      <th>4</th>\n",
       "      <th>5</th>\n",
       "      <th>6</th>\n",
       "    </tr>\n",
       "  </thead>\n",
       "  <tbody>\n",
       "    <tr>\n",
       "      <th>0</th>\n",
       "      <td>1</td>\n",
       "      <td>Oromia</td>\n",
       "      <td>Addis Ababa</td>\n",
       "      <td>353,690 km²</td>\n",
       "      <td>2024-04-09</td>\n",
       "      <td></td>\n",
       "      <td>1</td>\n",
       "    </tr>\n",
       "    <tr>\n",
       "      <th>1</th>\n",
       "      <td>2</td>\n",
       "      <td>Amhara</td>\n",
       "      <td>Bahir Dar</td>\n",
       "      <td>154,709 km²</td>\n",
       "      <td>2024-04-09</td>\n",
       "      <td></td>\n",
       "      <td>1</td>\n",
       "    </tr>\n",
       "    <tr>\n",
       "      <th>2</th>\n",
       "      <td>3</td>\n",
       "      <td>Somale</td>\n",
       "      <td>Jigjiga</td>\n",
       "      <td>1.2 m2</td>\n",
       "      <td>2024-04-09</td>\n",
       "      <td></td>\n",
       "      <td>1</td>\n",
       "    </tr>\n",
       "    <tr>\n",
       "      <th>3</th>\n",
       "      <td>4</td>\n",
       "      <td>Afar</td>\n",
       "      <td>Samara</td>\n",
       "      <td>72,053 km²</td>\n",
       "      <td>2024-04-10</td>\n",
       "      <td>1</td>\n",
       "      <td>1</td>\n",
       "    </tr>\n",
       "    <tr>\n",
       "      <th>4</th>\n",
       "      <td>5</td>\n",
       "      <td>Tigray</td>\n",
       "      <td>Mekele</td>\n",
       "      <td>50,079 km²</td>\n",
       "      <td>2024-04-11</td>\n",
       "      <td>1</td>\n",
       "      <td>1</td>\n",
       "    </tr>\n",
       "  </tbody>\n",
       "</table>\n",
       "</div>"
      ],
      "text/plain": [
       "   0       1            2            3           4  5  6\n",
       "0  1  Oromia  Addis Ababa  353,690 km²  2024-04-09     1\n",
       "1  2  Amhara    Bahir Dar  154,709 km²  2024-04-09     1\n",
       "2  3  Somale      Jigjiga       1.2 m2  2024-04-09     1\n",
       "3  4    Afar       Samara   72,053 km²  2024-04-10  1  1\n",
       "4  5  Tigray       Mekele   50,079 km²  2024-04-11  1  1"
      ]
     },
     "execution_count": 28,
     "metadata": {},
     "output_type": "execute_result"
    }
   ],
   "source": [
    "df.dropna(axis=True)"
   ]
  },
  {
   "cell_type": "code",
   "execution_count": null,
   "id": "62803ad6-cb71-4642-a651-48e085caa9a2",
   "metadata": {},
   "outputs": [],
   "source": []
  }
 ],
 "metadata": {
  "kernelspec": {
   "display_name": "Python 3 (ipykernel)",
   "language": "python",
   "name": "python3"
  },
  "language_info": {
   "codemirror_mode": {
    "name": "ipython",
    "version": 3
   },
   "file_extension": ".py",
   "mimetype": "text/x-python",
   "name": "python",
   "nbconvert_exporter": "python",
   "pygments_lexer": "ipython3",
   "version": "3.10.9"
  }
 },
 "nbformat": 4,
 "nbformat_minor": 5
}
